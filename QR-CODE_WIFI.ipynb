{
 "cells": [
  {
   "cell_type": "code",
   "execution_count": 2,
   "id": "7b14f097",
   "metadata": {},
   "outputs": [
    {
     "name": "stdout",
     "output_type": "stream",
     "text": [
      "Collecting wifi_qrcode_generator\n",
      "  Downloading wifi_qrcode_generator-0.1.tar.gz (2.5 kB)\n",
      "Requirement already satisfied: Pillow in c:\\users\\clauder.noronha\\anaconda3\\lib\\site-packages (from wifi_qrcode_generator) (9.0.1)\n",
      "Collecting qrcode\n",
      "  Downloading qrcode-7.3.1.tar.gz (43 kB)\n",
      "Requirement already satisfied: colorama in c:\\users\\clauder.noronha\\anaconda3\\lib\\site-packages (from qrcode->wifi_qrcode_generator) (0.4.4)\n",
      "Building wheels for collected packages: wifi-qrcode-generator, qrcode\n",
      "  Building wheel for wifi-qrcode-generator (setup.py): started\n",
      "  Building wheel for wifi-qrcode-generator (setup.py): finished with status 'done'\n",
      "  Created wheel for wifi-qrcode-generator: filename=wifi_qrcode_generator-0.1-py3-none-any.whl size=3064 sha256=bb7a3799757f5d961ca57250dac48beecc6c1bfe1980a146313ac0771ca3e93e\n",
      "  Stored in directory: c:\\users\\clauder.noronha\\appdata\\local\\pip\\cache\\wheels\\b3\\68\\a3\\b489d63e3c797e54fab2fd6e0cfeccfefba7806aa282274a43\n",
      "  Building wheel for qrcode (setup.py): started\n",
      "  Building wheel for qrcode (setup.py): finished with status 'done'\n",
      "  Created wheel for qrcode: filename=qrcode-7.3.1-py3-none-any.whl size=40401 sha256=5df8aa3c4185d89dad8c5ec792bc6a3641e4549180c66062b8914231fa49f4a5\n",
      "  Stored in directory: c:\\users\\clauder.noronha\\appdata\\local\\pip\\cache\\wheels\\93\\54\\16\\55cec87f8d902ed84b94ab8fdb7e89ae1158c06e130bc83b03\n",
      "Successfully built wifi-qrcode-generator qrcode\n",
      "Installing collected packages: qrcode, wifi-qrcode-generator\n",
      "Successfully installed qrcode-7.3.1 wifi-qrcode-generator-0.1\n"
     ]
    }
   ],
   "source": [
    "!pip install wifi_qrcode_generator"
   ]
  },
  {
   "cell_type": "code",
   "execution_count": 3,
   "id": "1aed71ff",
   "metadata": {},
   "outputs": [
    {
     "data": {
      "image/png": "[encoded data removed]",
      "text/plain": [
       "<PIL.Image.Image image mode=1 size=410x410 at 0x2D14FBC5820>"
      ]
     },
     "execution_count": 3,
     "metadata": {},
     "output_type": "execute_result"
    }
   ],
   "source": [
    "import wifi_qrcode_generator as qr\n",
    "qr.wifi_qrcode('SCT-CELULAR', False, 'WPA','Wifi@celular')"
   ]
  },
  {
   "cell_type": "code",
   "execution_count": null,
   "id": "52115cee",
   "metadata": {},
   "outputs": [],
   "source": []
  }
 ],
 "metadata": {
  "kernelspec": {
   "display_name": "Python 3 (ipykernel)",
   "language": "python",
   "name": "python3"
  },
  "language_info": {
   "codemirror_mode": {
    "name": "ipython",
    "version": 3
   },
   "file_extension": ".py",
   "mimetype": "text/x-python",
   "name": "python",
   "nbconvert_exporter": "python",
   "pygments_lexer": "ipython3",
   "version": "3.9.12"
  }
 },
 "nbformat": 4,
 "nbformat_minor": 5
}
